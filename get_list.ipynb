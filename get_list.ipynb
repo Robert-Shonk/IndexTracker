{
 "cells": [
  {
   "cell_type": "code",
   "execution_count": 78,
   "id": "d6520fa7",
   "metadata": {},
   "outputs": [],
   "source": [
    "import sqlite3\n",
    "\n",
    "import requests\n",
    "from bs4 import BeautifulSoup\n",
    "import pandas as pd\n",
    "\n",
    "headers = {\n",
    "    'User-Agent': 'Mozilla/5.0 (platform; rv:gecko-version) Gecko/gecko-trail Firefox/firefox-version'\n",
    "}\n",
    "url = 'https://en.wikipedia.org/wiki/List_of_S%26P_500_companies'"
   ]
  },
  {
   "cell_type": "code",
   "execution_count": 81,
   "id": "a4113af7",
   "metadata": {},
   "outputs": [],
   "source": [
    "con = sqlite3.connect('instance\\\\snp500tracker.sqlite')\n",
    "cur = con.cursor()\n",
    "req = requests.get(url, headers=headers)"
   ]
  },
  {
   "cell_type": "code",
   "execution_count": 80,
   "id": "514183b5",
   "metadata": {},
   "outputs": [],
   "source": [
    "if req.status_code == 200:\n",
    "    data = {'symbol': [], 'security': [], 'sector': [], 'sub_industry': [], 'hq_location': [], 'date_added': [], 'CIK': [], 'founded': []}\n",
    "\n",
    "    soup = BeautifulSoup(req.content)\n",
    "\n",
    "    table = soup.select('#constituents')[0]\n",
    "    rows = table.find_all('tr')[1:]\n",
    "\n",
    "    for row in rows:\n",
    "        tds = row.find_all('td')\n",
    "        data['symbol'].append(tds[0].text.strip('\\n'))\n",
    "        data['security'].append(tds[1].text.strip('\\n'))\n",
    "        data['sector'].append(tds[2].text.strip('\\n'))\n",
    "        data['sub_industry'].append(tds[3].text.strip('\\n'))\n",
    "        data['hq_location'].append(tds[4].text.strip('\\n'))\n",
    "        data['date_added'].append(tds[5].text.strip('\\n'))\n",
    "        data['CIK'].append(tds[6].text.strip('\\n'))\n",
    "        data['founded'].append(tds[7].text.strip('\\n'))\n",
    "\n",
    "    df = pd.DataFrame(data).drop_duplicates(subset=['CIK'], keep='first')\n",
    "    df.to_sql('snp', con, if_exists='append', index=False)\n",
    "    con.close()\n",
    "else:\n",
    "    print('request failed')"
   ]
  }
 ],
 "metadata": {
  "kernelspec": {
   "display_name": ".venv",
   "language": "python",
   "name": "python3"
  },
  "language_info": {
   "codemirror_mode": {
    "name": "ipython",
    "version": 3
   },
   "file_extension": ".py",
   "mimetype": "text/x-python",
   "name": "python",
   "nbconvert_exporter": "python",
   "pygments_lexer": "ipython3",
   "version": "3.13.0"
  }
 },
 "nbformat": 4,
 "nbformat_minor": 5
}
